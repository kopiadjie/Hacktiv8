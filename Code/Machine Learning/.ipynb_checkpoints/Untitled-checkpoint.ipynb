{
 "cells": [
  {
   "cell_type": "markdown",
   "id": "20f2068c",
   "metadata": {},
   "source": [
    "# Machine Learning"
   ]
  },
  {
   "cell_type": "code",
   "execution_count": 13,
   "id": "d2d9fe8e",
   "metadata": {},
   "outputs": [],
   "source": [
    "# Tidy Data\n",
    "# - lebih mudah dimanipulasi\n",
    "# - variabel nya adalah kolom\n",
    "# - observasinya adalah baris"
   ]
  },
  {
   "cell_type": "code",
   "execution_count": 14,
   "id": "5af94e70",
   "metadata": {},
   "outputs": [],
   "source": [
    "# input data - inspeksi (memilah data / dibenerin) - merapihkan data"
   ]
  },
  {
   "cell_type": "code",
   "execution_count": 15,
   "id": "b1fd257d",
   "metadata": {},
   "outputs": [],
   "source": [
    "# Mendapatkan data\n",
    "# - google\n",
    "# - data pemerintahan\n",
    "# - data perusahaan"
   ]
  },
  {
   "cell_type": "markdown",
   "id": "f59903ca",
   "metadata": {},
   "source": [
    "## load, clean, inspect data"
   ]
  },
  {
   "cell_type": "code",
   "execution_count": 16,
   "id": "c3523d28",
   "metadata": {},
   "outputs": [],
   "source": [
    "import pandas as pd\n",
    "import matplotlib.pyplot as plt\n",
    "# matplotlib support untuk plotting\n",
    "\n",
    "%matplotlib inline\n",
    "# menampilkan ploting diline tanpa pop up dari baris code"
   ]
  },
  {
   "cell_type": "markdown",
   "id": "8c74ef48",
   "metadata": {},
   "source": [
    "## Loading dan Review Data"
   ]
  },
  {
   "cell_type": "code",
   "execution_count": null,
   "id": "782105bb",
   "metadata": {},
   "outputs": [],
   "source": [
    "df = pd.read_csv('kodeML.csv')"
   ]
  },
  {
   "cell_type": "code",
   "execution_count": null,
   "id": "49b6fccb",
   "metadata": {},
   "outputs": [],
   "source": [
    "df.shape()"
   ]
  },
  {
   "cell_type": "code",
   "execution_count": null,
   "id": "eda32b44",
   "metadata": {},
   "outputs": [],
   "source": []
  }
 ],
 "metadata": {
  "kernelspec": {
   "display_name": "Python 3 (ipykernel)",
   "language": "python",
   "name": "python3"
  },
  "language_info": {
   "codemirror_mode": {
    "name": "ipython",
    "version": 3
   },
   "file_extension": ".py",
   "mimetype": "text/x-python",
   "name": "python",
   "nbconvert_exporter": "python",
   "pygments_lexer": "ipython3",
   "version": "3.10.9"
  }
 },
 "nbformat": 4,
 "nbformat_minor": 5
}
